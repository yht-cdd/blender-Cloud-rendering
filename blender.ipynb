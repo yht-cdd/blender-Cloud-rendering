{
 "cells": [
  {
   "cell_type": "markdown",
   "metadata": {},
   "source": [
    "以下部分适用于cloud studio deepseekr1 32B(\tAMD EPYC 9754 128-Core Processor (CPU)64c/128GB)的配置进行渲染的ipynb文件\n",
    "目前只支持cycles渲染器,并且渲染为png格式,随后通过ffmpeg进行视频合成"
   ]
  },
  {
   "cell_type": "markdown",
   "metadata": {},
   "source": [
    "下载适用于linux4.4.3的blender文件"
   ]
  },
  {
   "cell_type": "code",
   "execution_count": null,
   "metadata": {},
   "outputs": [],
   "source": [
    "!wget https://download.blender.org/release/Blender4.4/blender-4.4.3-linux-x64.tar.xz"
   ]
  },
  {
   "cell_type": "markdown",
   "metadata": {},
   "source": [
    "解压文件"
   ]
  },
  {
   "cell_type": "code",
   "execution_count": 4,
   "metadata": {},
   "outputs": [],
   "source": [
    "!tar -xf blender-4.4.3-linux-x64.tar.xz"
   ]
  },
  {
   "cell_type": "markdown",
   "metadata": {},
   "source": [
    "安装依赖"
   ]
  },
  {
   "cell_type": "code",
   "execution_count": null,
   "metadata": {},
   "outputs": [],
   "source": [
    "# 更新包列表\n",
    "!sudo apt-get update\n",
    "\n",
    "# 安装核心依赖（包括 Mesa OpenGL 驱动）\n",
    "!sudo apt-get install -y libgl1-mesa-glx libglu1-mesa libx11-6 libxext6 libxi6 libxrandr2 libxrender1 libxcb1 libx11-xcb1 libxcb-keysyms1\n",
    "\n",
    "# 对于 Blender，还需要其他依赖\n",
    "!sudo apt-get install -y libxxf86vm1 libxcursor1 libxinerama1 libxfixes3 zlib1g libpng16-16 libfreetype6 libfontconfig1\n",
    "\n",
    "# 如果使用 CUDA 渲染，安装 NVIDIA 驱动（但 Cloud Studio 可能无 GPU）\n",
    "!sudo apt-get install -y nvidia-cuda-toolkit"
   ]
  },
  {
   "cell_type": "code",
   "execution_count": null,
   "metadata": {},
   "outputs": [],
   "source": [
    "以下内容在终端中运行,不要尝试运行此单元格\n",
    "1进入blender4.4.3-linux-x64目录\n",
    "cd PATH=YOUR-BLENDER-4.4.3-LINUX-X64\n",
    "2运行脚本\n",
    "./blender -b PATH=YOUR_BLEND_FILE.blend -P PATH=YOUR-FILE.PY#这里是渲染文件的路径\n",
    "示例\n",
    "./blender -b /workspace/Deepseek-R1-Chat-32B/站台4.4.blend -P /workspace/Deepseek-R1-Chat-32B/blender4.4.3.py"
   ]
  },
  {
   "cell_type": "markdown",
   "metadata": {},
   "source": [
    "安装ffmpeg"
   ]
  },
  {
   "cell_type": "code",
   "execution_count": null,
   "metadata": {},
   "outputs": [],
   "source": [
    "\n",
    "!sudo apt install ffmpeg -y"
   ]
  },
  {
   "cell_type": "markdown",
   "metadata": {},
   "source": [
    "转为视频，以下代码也在终端中使用"
   ]
  },
  {
   "cell_type": "code",
   "execution_count": null,
   "metadata": {},
   "outputs": [],
   "source": [
    "python png_to_video.py"
   ]
  },
  {
   "cell_type": "code",
   "execution_count": null,
   "metadata": {},
   "outputs": [],
   "source": [
    "!nvidia watch"
   ]
  }
 ],
 "metadata": {
  "kernelspec": {
   "display_name": "Python (base)",
   "language": "python",
   "name": "base"
  },
  "language_info": {
   "codemirror_mode": {
    "name": "ipython",
    "version": 3
   },
   "file_extension": ".py",
   "mimetype": "text/x-python",
   "name": "python",
   "nbconvert_exporter": "python",
   "pygments_lexer": "ipython3",
   "version": "3.10.11"
  }
 },
 "nbformat": 4,
 "nbformat_minor": 2
}
